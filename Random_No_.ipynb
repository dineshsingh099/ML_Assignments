{
  "nbformat": 4,
  "nbformat_minor": 0,
  "metadata": {
    "colab": {
      "provenance": [],
      "authorship_tag": "ABX9TyOLY9NL29Oe43d5C+gQE2Zd",
      "include_colab_link": true
    },
    "kernelspec": {
      "name": "python3",
      "display_name": "Python 3"
    },
    "language_info": {
      "name": "python"
    }
  },
  "cells": [
    {
      "cell_type": "markdown",
      "metadata": {
        "id": "view-in-github",
        "colab_type": "text"
      },
      "source": [
        "<a href=\"https://colab.research.google.com/github/dineshsingh099/IML-Assignment1/blob/main/Random_No_.ipynb\" target=\"_parent\"><img src=\"https://colab.research.google.com/assets/colab-badge.svg\" alt=\"Open In Colab\"/></a>"
      ]
    },
    {
      "cell_type": "code",
      "execution_count": null,
      "metadata": {
        "id": "KR_wcq3g59-7"
      },
      "outputs": [],
      "source": [
        "import random\n",
        "import matplotlib.pyplot as plt"
      ]
    },
    {
      "cell_type": "markdown",
      "source": [
        "\n",
        "\n",
        "*   we can use random module to pick a random number from the given range, it includes various functions like randint() , random().\n",
        "*   Matplotlib is a library in python which can be used for visualization of given data in graphical form.\n"
      ],
      "metadata": {
        "id": "iDfzxk0tJY7-"
      }
    },
    {
      "cell_type": "code",
      "source": [
        "mapping_dict = dict(zip(range(0,10),range(0,10)))"
      ],
      "metadata": {
        "id": "br0wyf-X6MFz"
      },
      "execution_count": null,
      "outputs": []
    },
    {
      "cell_type": "markdown",
      "source": [
        "here, we create an dicitonary with the name of mapping_dict and we use zip function beacuse we want to add two different iterable into one . we set range for both the key pairs."
      ],
      "metadata": {
        "id": "U0oRAQdDB_Xn"
      }
    },
    {
      "cell_type": "code",
      "source": [
        "mapping_dict"
      ],
      "metadata": {
        "colab": {
          "base_uri": "https://localhost:8080/"
        },
        "id": "gv-Yi1L2CGGk",
        "outputId": "30054514-6c31-49f4-dde0-b0cdb54da018"
      },
      "execution_count": null,
      "outputs": [
        {
          "output_type": "execute_result",
          "data": {
            "text/plain": [
              "{0: 0, 1: 1, 2: 2, 3: 3, 4: 4, 5: 5, 6: 6, 7: 7, 8: 8, 9: 9}"
            ]
          },
          "metadata": {},
          "execution_count": 14
        }
      ]
    },
    {
      "cell_type": "markdown",
      "source": [
        "now , we print our mapping_dict dictionary."
      ],
      "metadata": {
        "id": "jFialxtJCYDC"
      }
    },
    {
      "cell_type": "code",
      "source": [
        "for k in mapping_dict.keys():\n",
        "\n",
        "  mapping_dict[k] = str(mapping_dict[k])"
      ],
      "metadata": {
        "id": "z5gOOsvc6V-f"
      },
      "execution_count": null,
      "outputs": []
    },
    {
      "cell_type": "markdown",
      "source": [
        "we set an loop over dictionary that iterate over all the key pairs, and we take a key 'k' and access in mapping_dict then we set its value as string using the 'str()' function and then assigning it back to the same key."
      ],
      "metadata": {
        "id": "oeGAvbmiCjRi"
      }
    },
    {
      "cell_type": "code",
      "source": [
        "mapping_dict"
      ],
      "metadata": {
        "colab": {
          "base_uri": "https://localhost:8080/"
        },
        "id": "OIotwDKr6XZ3",
        "outputId": "7ed0a27a-d1cf-4445-eea7-8ef870acc69a"
      },
      "execution_count": null,
      "outputs": [
        {
          "output_type": "execute_result",
          "data": {
            "text/plain": [
              "{0: '0',\n",
              " 1: '1',\n",
              " 2: '2',\n",
              " 3: '3',\n",
              " 4: '4',\n",
              " 5: '5',\n",
              " 6: '6',\n",
              " 7: '7',\n",
              " 8: '8',\n",
              " 9: '9'}"
            ]
          },
          "metadata": {},
          "execution_count": 16
        }
      ]
    },
    {
      "cell_type": "markdown",
      "source": [
        "we again print our mapping_dict but now there is a change . keys pair shows the value in string."
      ],
      "metadata": {
        "id": "-MdgVBaeCrZk"
      }
    },
    {
      "cell_type": "code",
      "source": [
        "for i in range(0,26):\n",
        "  mapping_dict[10+i] = chr(65+i)"
      ],
      "metadata": {
        "id": "xC2warwJ6axX"
      },
      "execution_count": null,
      "outputs": []
    },
    {
      "cell_type": "markdown",
      "source": [
        "\n",
        "\n",
        "*   this set up a loop over the dictionary with range of between (0 to 26), then it takes each number of given range as i ,\n",
        "*   In mapping_dict[10+i], it adds the value as per given range.\n",
        "*  the chr() function corresponds to the ASCII values as (A to Z)\n",
        "*   chr(65+i) it convert numerical value into charachter as per their ASCII code.\n",
        "\n",
        "\n",
        "\n",
        "\n"
      ],
      "metadata": {
        "id": "TJfbKDMbCyoc"
      }
    },
    {
      "cell_type": "code",
      "source": [
        "mapping_dict"
      ],
      "metadata": {
        "colab": {
          "base_uri": "https://localhost:8080/"
        },
        "id": "NCF7SHtV6gTo",
        "outputId": "e407ca37-c053-429c-dd98-b5e71e86dc8b"
      },
      "execution_count": null,
      "outputs": [
        {
          "output_type": "execute_result",
          "data": {
            "text/plain": [
              "{0: '0',\n",
              " 1: '1',\n",
              " 2: '2',\n",
              " 3: '3',\n",
              " 4: '4',\n",
              " 5: '5',\n",
              " 6: '6',\n",
              " 7: '7',\n",
              " 8: '8',\n",
              " 9: '9',\n",
              " 10: 'A',\n",
              " 11: 'B',\n",
              " 12: 'C',\n",
              " 13: 'D',\n",
              " 14: 'E',\n",
              " 15: 'F',\n",
              " 16: 'G',\n",
              " 17: 'H',\n",
              " 18: 'I',\n",
              " 19: 'J',\n",
              " 20: 'K',\n",
              " 21: 'L',\n",
              " 22: 'M',\n",
              " 23: 'N',\n",
              " 24: 'O',\n",
              " 25: 'P',\n",
              " 26: 'Q',\n",
              " 27: 'R',\n",
              " 28: 'S',\n",
              " 29: 'T',\n",
              " 30: 'U',\n",
              " 31: 'V',\n",
              " 32: 'W',\n",
              " 33: 'X',\n",
              " 34: 'Y',\n",
              " 35: 'Z'}"
            ]
          },
          "metadata": {},
          "execution_count": 18
        }
      ]
    },
    {
      "cell_type": "markdown",
      "source": [
        "we print our mapping_dict , this time the dictionary having values upto 35 , where 0 to 9 indicates the numerical values and 10 to 35 shows alphabets."
      ],
      "metadata": {
        "id": "z3tSp_t2DNGw"
      }
    },
    {
      "cell_type": "code",
      "source": [
        "random_numbers = list()\n",
        "\n",
        "for i in range(0,1000000):\n",
        "\n",
        "  blank_str = str()\n",
        "\n",
        "  random_digit = random.randint(0,35)\n",
        "  blank_str = blank_str + mapping_dict[random_digit]\n",
        "\n",
        "  random_digit = random.randint(0,35)\n",
        "  blank_str = blank_str + mapping_dict[random_digit]\n",
        "\n",
        "  for i in range(0,8):\n",
        "    coin_toss = random.randint(0,1)\n",
        "\n",
        "    if coin_toss == 1:\n",
        "\n",
        "      random_digit = random.randint(0,35)\n",
        "      blank_str = blank_str + mapping_dict[random_digit]\n",
        "\n",
        "    else:\n",
        "      break\n",
        "\n",
        "  random_numbers.append(blank_str)"
      ],
      "metadata": {
        "id": "N80JsH_f6hMX"
      },
      "execution_count": null,
      "outputs": []
    },
    {
      "cell_type": "markdown",
      "source": [
        "\n",
        "\n",
        "*   firstly, we create an empty list with the name of random_numbers.\n",
        "*  Then we start an loop over the range between (0 to 10,000) for each iteration.\n",
        "\n",
        "*   we initialize blank_str as str() for each iteration.\n",
        "*   we use random.randint(0,35), to generate a random number between to 0 to 35,\n",
        "\n",
        "*   we use the random_digit in the index of mapping_dict to get an charachter and then append the charachter in our blank_str.\n",
        "*   repeat the same process to generate the charachter one more time and append it in blank_str.\n",
        "\n",
        "*   Then, we start an inner loop having range of (0 to 8) , and perform an coin _toss task which returns the value as 0 or 1.\n",
        "*   In inner loop , we use an if-else statement-\n",
        "\n",
        "*   if the coin_toss returns the value '1', we generate an random number from mapping_dict and append it into the blank_str.\n",
        "*   else the condition is breaked.\n",
        "\n",
        "*   finally, we append the blank_str into the random_number list().\n",
        "\n",
        "\n",
        "\n",
        "\n",
        "\n",
        "\n",
        "\n",
        "\n",
        "\n",
        "\n",
        "\n",
        "\n"
      ],
      "metadata": {
        "id": "owkV353iDTmY"
      }
    },
    {
      "cell_type": "code",
      "source": [
        "reverse_mapping_dict = dict()\n",
        "\n",
        "for k in mapping_dict.keys():\n",
        "  reverse_mapping_dict[mapping_dict[k]] = k"
      ],
      "metadata": {
        "id": "g1TyY_FO6k36"
      },
      "execution_count": null,
      "outputs": []
    },
    {
      "cell_type": "markdown",
      "source": [
        "\n",
        "\n",
        "*   here, we create an empty dictionary named as reverse_mapping_dict.\n",
        "*   we start an loop over our mapping_dict.keys().\n",
        "\n",
        "*   now, it take each 'k' from mapping_dict and access its value using [mapping_dict[k]] , then it reverse its value as key, and key as value.\n",
        "\n",
        "\n",
        "\n",
        "\n"
      ],
      "metadata": {
        "id": "WZU7io1oEllr"
      }
    },
    {
      "cell_type": "code",
      "source": [
        "base_frequency = dict()\n",
        "\n",
        "for blank_str in random_numbers:\n",
        "  highest_digit = max(blank_str)\n",
        "  highest_base = reverse_mapping_dict[highest_digit] + 1\n",
        "\n",
        "  if highest_base in base_frequency.keys():\n",
        "    base_frequency[highest_base] += 1\n",
        "  else:\n",
        "    base_frequency[highest_base] = 1"
      ],
      "metadata": {
        "id": "kRmhgRni6qHC"
      },
      "execution_count": null,
      "outputs": []
    },
    {
      "cell_type": "markdown",
      "source": [
        "\n",
        "\n",
        "*  we create a dictionary with a name of base_frequency.\n",
        "\n",
        "*   we start an loop for 'blank_str' in our random_numbers list.\n",
        "\n",
        "*   then, we find highest_digit in our blank_str using the max() function\n",
        "*   we find the highest_base with the help of the highest_digit in the reverse_mapping_dict and then incerement it by 1.\n",
        "\n",
        "\n",
        "*  now, we use an If else statement-\n",
        "\n",
        "*   If the highest_base is already a key in base_frequency then highest_base increments by one.\n",
        "\n",
        "*  else we set highest_base to 1.\n",
        "\n",
        "\n",
        "\n"
      ],
      "metadata": {
        "id": "Vuva1vVxE1t_"
      }
    },
    {
      "cell_type": "code",
      "source": [
        "plt.bar(x=base_frequency.keys(),height=base_frequency.values())"
      ],
      "metadata": {
        "colab": {
          "base_uri": "https://localhost:8080/",
          "height": 447
        },
        "id": "gb4W34Yd6vrq",
        "outputId": "1c9e6511-fc64-464b-89c7-d5cc24abb2ad"
      },
      "execution_count": null,
      "outputs": [
        {
          "output_type": "execute_result",
          "data": {
            "text/plain": [
              "<BarContainer object of 36 artists>"
            ]
          },
          "metadata": {},
          "execution_count": 22
        },
        {
          "output_type": "display_data",
          "data": {
            "text/plain": [
              "<Figure size 640x480 with 1 Axes>"
            ],
            "image/png": "[encoded data removed]"
          },
          "metadata": {}
        }
      ]
    },
    {
      "cell_type": "markdown",
      "source": [
        "here, we use plt.bar() function with the help of matplotlib library, which reprents a bar graph between the base.frequency.keys() and the base.frequency.values()."
      ],
      "metadata": {
        "id": "7KPZMJ9EFXtw"
      }
    }
  ]
}